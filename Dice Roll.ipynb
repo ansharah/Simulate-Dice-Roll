{
 "cells": [
  {
   "cell_type": "code",
   "execution_count": null,
   "metadata": {},
   "outputs": [],
   "source": [
    "import random\n",
    " \n",
    "min_value = 1\n",
    "max_value = 6\n",
    " \n",
    "nextroll = True\n",
    " \n",
    "while nextroll:\n",
    "    print(random.randint(min_value, max_value))\n",
    " \n",
    "    roll_again = input('Want to roll the dice again? ')\n",
    " \n",
    "    if roll_again == 'yes' or roll_again == 'y':\n",
    "        nextroll = True\n",
    "    else:\n",
    "        nextroll = False"
   ]
  },
  {
   "cell_type": "code",
   "execution_count": null,
   "metadata": {},
   "outputs": [],
   "source": []
  },
  {
   "cell_type": "code",
   "execution_count": null,
   "metadata": {},
   "outputs": [],
   "source": []
  }
 ],
 "metadata": {
  "kernelspec": {
   "display_name": "Python 3",
   "language": "python",
   "name": "python3"
  },
  "language_info": {
   "codemirror_mode": {
    "name": "ipython",
    "version": 3
   },
   "file_extension": ".py",
   "mimetype": "text/x-python",
   "name": "python",
   "nbconvert_exporter": "python",
   "pygments_lexer": "ipython3",
   "version": "3.7.3"
  }
 },
 "nbformat": 4,
 "nbformat_minor": 2
}
